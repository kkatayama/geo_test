{
 "cells": [
  {
   "cell_type": "markdown",
   "metadata": {},
   "source": [
    "---\n",
    "## Read data from csv-file\n",
    ">##### FILE_NAME = test_100.csv\n",
    ">##### FILE_DATA = list of 100 IP addresses with geo-location data\n",
    "---"
   ]
  },
  {
   "cell_type": "code",
   "execution_count": 2,
   "metadata": {},
   "outputs": [
    {
     "data": {
      "text/html": [
       "<div>\n",
       "<style scoped>\n",
       "    .dataframe tbody tr th:only-of-type {\n",
       "        vertical-align: middle;\n",
       "    }\n",
       "\n",
       "    .dataframe tbody tr th {\n",
       "        vertical-align: top;\n",
       "    }\n",
       "\n",
       "    .dataframe thead th {\n",
       "        text-align: right;\n",
       "    }\n",
       "</style>\n",
       "<table border=\"1\" class=\"dataframe\">\n",
       "  <thead>\n",
       "    <tr style=\"text-align: right;\">\n",
       "      <th></th>\n",
       "      <th>ipv4</th>\n",
       "      <th>asn</th>\n",
       "      <th>city</th>\n",
       "      <th>country</th>\n",
       "      <th>latitude</th>\n",
       "      <th>longitude</th>\n",
       "    </tr>\n",
       "  </thead>\n",
       "  <tbody>\n",
       "    <tr>\n",
       "      <th>0</th>\n",
       "      <td>69.36.160.168</td>\n",
       "      <td>29854</td>\n",
       "      <td>Providence</td>\n",
       "      <td>US</td>\n",
       "      <td>41.7000</td>\n",
       "      <td>-111.8123</td>\n",
       "    </tr>\n",
       "    <tr>\n",
       "      <th>1</th>\n",
       "      <td>69.36.160.169</td>\n",
       "      <td>29854</td>\n",
       "      <td>Providence</td>\n",
       "      <td>US</td>\n",
       "      <td>41.7000</td>\n",
       "      <td>-111.8123</td>\n",
       "    </tr>\n",
       "    <tr>\n",
       "      <th>2</th>\n",
       "      <td>69.36.160.167</td>\n",
       "      <td>29854</td>\n",
       "      <td>Providence</td>\n",
       "      <td>US</td>\n",
       "      <td>41.7000</td>\n",
       "      <td>-111.8123</td>\n",
       "    </tr>\n",
       "    <tr>\n",
       "      <th>3</th>\n",
       "      <td>69.36.160.170</td>\n",
       "      <td>29854</td>\n",
       "      <td>Providence</td>\n",
       "      <td>US</td>\n",
       "      <td>41.7000</td>\n",
       "      <td>-111.8123</td>\n",
       "    </tr>\n",
       "    <tr>\n",
       "      <th>4</th>\n",
       "      <td>54.192.29.70</td>\n",
       "      <td>16509</td>\n",
       "      <td>Seattle</td>\n",
       "      <td>US</td>\n",
       "      <td>47.6114</td>\n",
       "      <td>-122.3305</td>\n",
       "    </tr>\n",
       "  </tbody>\n",
       "</table>\n",
       "</div>"
      ],
      "text/plain": [
       "            ipv4    asn        city country  latitude  longitude\n",
       "0  69.36.160.168  29854  Providence      US   41.7000  -111.8123\n",
       "1  69.36.160.169  29854  Providence      US   41.7000  -111.8123\n",
       "2  69.36.160.167  29854  Providence      US   41.7000  -111.8123\n",
       "3  69.36.160.170  29854  Providence      US   41.7000  -111.8123\n",
       "4   54.192.29.70  16509     Seattle      US   47.6114  -122.3305"
      ]
     },
     "execution_count": 2,
     "metadata": {},
     "output_type": "execute_result"
    }
   ],
   "source": [
    "import pandas as pd\n",
    "\n",
    "df = pd.read_csv('./test_100.csv')\n",
    "df.head()"
   ]
  },
  {
   "cell_type": "markdown",
   "metadata": {},
   "source": [
    "---\n",
    "\n",
    "Plot all 100 IP coordinates using `cartoframes`\n",
    "\n",
    "`cartoframes`  is free for 2 years if you use your ud-email with github\n",
    "* Visit [https://education.github.com/pack](https://education.github.com/pack) and get a free student pack.  \n",
    "* Goto [https://carto.com/login](https://carto.com/login) and login using your github account.\n",
    "* CLick on API Keys and generate a new key.\n",
    "* Install using pip\n",
    ">```\n",
    "$ pip install cartoframes\n",
    "```\n",
    ">[https://github.com/CartoDB/cartoframes](https://github.com/CartoDB/cartoframes)\n",
    "\n",
    "---"
   ]
  },
  {
   "cell_type": "code",
   "execution_count": 6,
   "metadata": {},
   "outputs": [
    {
     "name": "stdout",
     "output_type": "stream",
     "text": [
      "Table successfully written to CARTO: https://kkatayama.carto.com/dataset/test_100\n"
     ]
    },
    {
     "data": {
      "text/html": [
       "<iframe srcdoc=\"<!DOCTYPE html>\n",
       "<html>\n",
       "  <head>\n",
       "    <title>Carto</title>\n",
       "    <meta name='viewport' content='initial-scale=1.0, user-scalable=no' />\n",
       "    <meta http-equiv='content-type' content='text/html; charset=UTF-8' />\n",
       "    <link rel='shortcut icon' href='http://cartodb.com/assets/favicon.ico' />\n",
       "\n",
       "    <style>\n",
       "     html, body, #map {\n",
       "       height: 100%;\n",
       "       padding: 0;\n",
       "       margin: 0;\n",
       "     }\n",
       "     #zoom-center {\n",
       "       position: absolute;\n",
       "       right: 0;\n",
       "       top: 0;\n",
       "       background-color: rgba(255, 255, 255, 0.7);\n",
       "       width: 240px;\n",
       "       z-index: 100;\n",
       "       padding: 4px;\n",
       "     }\n",
       "    </style>\n",
       "\n",
       "    <link rel='stylesheet' href='https://cartodb-libs.global.ssl.fastly.net/cartodb.js/v3/3.15/themes/css/cartodb.css' />\n",
       "  </head>\n",
       "  <body>\n",
       "    <div id='zoom-center'>\n",
       "      zoom=<span id='zoom'>4</span>,\n",
       "      lng=<span id='lon'>No data</span>, lat=<span id='lat'>No data</span>\n",
       "    </div>\n",
       "    <div id='map'></div>\n",
       "    <script src='https://cartodb-libs.global.ssl.fastly.net/cartodb.js/v3/3.15/cartodb.js'></script>\n",
       "\n",
       "    <script>\n",
       "     const config  = {&quot;maps_api_template&quot;: &quot;https://kkatayama.carto.com&quot;, &quot;named_map&quot;: {&quot;params&quot;: {&quot;north&quot;: 53.566, &quot;west&quot;: -122.3732, &quot;basemap_url&quot;: &quot;https://{s}.basemaps.cartocdn.com/rastertiles/voyager_labels_under/{z}/{x}/{y}.png&quot;, &quot;cartocss_0&quot;: &quot;#layer {  marker-fill: ramp([asn], cartocolor(Geyser), quantiles(7), >); marker-allow-overlap: true; marker-fill-opacity: 0.9; marker-line-color: #FFF; marker-width: 16; marker-line-opacity: 1; marker-line-width: 0.5;}#layer[asn = null] {  marker-fill: #ccc;}&quot;, &quot;east&quot;: 139.7514, &quot;sql_0&quot;: &quot;SELECT * FROM test_100&quot;, &quot;south&quot;: -3.7227}, &quot;name&quot;: &quot;cartoframes_ver20170406_layers1_time0_baseid2_labels0_zoom0&quot;}, &quot;tiler_domain&quot;: &quot;carto.com&quot;, &quot;type&quot;: &quot;namedmap&quot;, &quot;sql_api_template&quot;: &quot;https://kkatayama.carto.com&quot;, &quot;user_name&quot;: &quot;kkatayama&quot;, &quot;tiler_port&quot;: &quot;80&quot;, &quot;tiler_protocol&quot;: &quot;https&quot;};\n",
       "     const bounds  = [[53.566, 139.7514], [-3.7227, -122.3732]];\n",
       "     const options = {&quot;filter&quot;: [&quot;mapnik&quot;, &quot;torque&quot;], &quot;https&quot;: true};\n",
       "     var labels_url = '';\n",
       "\n",
       "     const adjustLongitude = (lng) => (\n",
       "       lng - ((Math.ceil((lng + 180) / 360) - 1) * 360)\n",
       "     );\n",
       "     const map = L.map('map', {\n",
       "       zoom: 3,\n",
       "       center: [0, 0],\n",
       "     });\n",
       "\n",
       "     if (L.Browser.retina) {\n",
       "         var basemap = config.named_map.params.basemap_url.replace('.png', '@2x.png');\n",
       "         labels_url = labels_url.replace('.png', '@2x.png');\n",
       "     } else {\n",
       "         var basemap = config.named_map.params.basemap_url;\n",
       "     }\n",
       "     L.tileLayer(basemap, {\n",
       "         attribution: &quot;&copy; <a href=\\&quot;http://www.openstreetmap.org/copyright\\&quot;>OpenStreetMap</a>&quot;\n",
       "     }).addTo(map);\n",
       "\n",
       "     const updateMapInfo = () => {\n",
       "       $('#zoom').text(map.getZoom());\n",
       "       $('#lat').text(map.getCenter().lat.toFixed(4));\n",
       "       $('#lon').text(adjustLongitude(map.getCenter().lng).toFixed(4));\n",
       "     };\n",
       "\n",
       "     cartodb.createLayer(map, config, options)\n",
       "            .addTo(map)\n",
       "            .done((layer) => {\n",
       "                // add labels layer\n",
       "                if (labels_url) {\n",
       "                    var topPane = L.DomUtil.create('div', 'leaflet-top-pane', map.getPanes().mapPane);\n",
       "                    var topLayer = new L.tileLayer(labels_url).addTo(map);\n",
       "                    topPane.appendChild(topLayer.getContainer());\n",
       "                    topLayer.setZIndex(7);\n",
       "                 }\n",
       "\n",
       "                // fit map to bounds\n",
       "                if (bounds.length) {\n",
       "                  map.fitBounds(bounds);\n",
       "                }\n",
       "\n",
       "                updateMapInfo();\n",
       "                map.on('move', () => {\n",
       "                  updateMapInfo();\n",
       "                });\n",
       "            })\n",
       "            .error((err) => {\n",
       "              console.log('ERROR: ', err);\n",
       "            });\n",
       "    </script>\n",
       "\n",
       "  </body>\n",
       "</html>\n",
       "\" width=800 height=400>  Preview image: <img src=\"https://kkatayama.carto.com/api/v1/map/static/named/cartoframes_ver20170406_layers1_time0_baseid2_labels0_zoom0/800/400.png?config=%7B%22cartocss_0%22%3A+%22%23layer+%7B++marker-fill%3A+ramp%28%5Basn%5D%2C+cartocolor%28Geyser%29%2C+quantiles%287%29%2C+%3E%29%3B+marker-allow-overlap%3A+true%3B+marker-fill-opacity%3A+0.9%3B+marker-line-color%3A+%23FFF%3B+marker-width%3A+16%3B+marker-line-opacity%3A+1%3B+marker-line-width%3A+0.5%3B%7D%23layer%5Basn+%3D+null%5D+%7B++marker-fill%3A+%23ccc%3B%7D%22%2C+%22basemap_url%22%3A+%22https%3A%2F%2F%7Bs%7D.basemaps.cartocdn.com%2Frastertiles%2Fvoyager_labels_under%2F%7Bz%7D%2F%7Bx%7D%2F%7By%7D.png%22%2C+%22sql_0%22%3A+%22SELECT+%2A+FROM+test_100%22%7D&anti_cache=0.45566690233&bbox=-122.3732%2C-3.7227%2C139.7514%2C53.566\" /></iframe>"
      ],
      "text/plain": [
       "<IPython.core.display.HTML object>"
      ]
     },
     "execution_count": 6,
     "metadata": {},
     "output_type": "execute_result"
    }
   ],
   "source": [
    "import cartoframes\n",
    "from cartoframes import Credentials, Layer, styling, BaseMap\n",
    "\n",
    "USERNAME = 'kkatayama'\n",
    "APIKEY   = '7d3903686e1a70e4dedcc87809ea5bd5e2aa357a'\n",
    "creds    = Credentials(username=USERNAME, key=APIKEY)\n",
    "cc       = cartoframes.CartoContext(creds=creds)\n",
    "\n",
    "cc.write(df, 'test_100', \n",
    "         lnglat=('longitude', 'latitude'),\n",
    "         overwrite=True)\n",
    "\n",
    "l = Layer('test_100',\n",
    "          color={'column': 'asn',\n",
    "                 'scheme': styling.geyser(7, bin_method='quantiles'),\n",
    "                 'legend': '100 Malicous IPs'},\n",
    "          size=16)\n",
    "cc.map(layers=l)"
   ]
  },
  {
   "cell_type": "code",
   "execution_count": null,
   "metadata": {},
   "outputs": [],
   "source": []
  },
  {
   "cell_type": "code",
   "execution_count": 8,
   "metadata": {},
   "outputs": [
    {
     "name": "stdout",
     "output_type": "stream",
     "text": [
      "Table successfully written to CARTO: https://kkatayama.carto.com/dataset/wilmington_de\n"
     ]
    },
    {
     "data": {
      "text/html": [
       "<iframe srcdoc=\"<!DOCTYPE html>\n",
       "<html>\n",
       "  <head>\n",
       "    <title>Carto</title>\n",
       "    <meta name='viewport' content='initial-scale=1.0, user-scalable=no' />\n",
       "    <meta http-equiv='content-type' content='text/html; charset=UTF-8' />\n",
       "    <link rel='shortcut icon' href='http://cartodb.com/assets/favicon.ico' />\n",
       "\n",
       "    <style>\n",
       "     html, body, #map {\n",
       "       height: 100%;\n",
       "       padding: 0;\n",
       "       margin: 0;\n",
       "     }\n",
       "     #zoom-center {\n",
       "       position: absolute;\n",
       "       right: 0;\n",
       "       top: 0;\n",
       "       background-color: rgba(255, 255, 255, 0.7);\n",
       "       width: 240px;\n",
       "       z-index: 100;\n",
       "       padding: 4px;\n",
       "     }\n",
       "    </style>\n",
       "\n",
       "    <link rel='stylesheet' href='https://cartodb-libs.global.ssl.fastly.net/cartodb.js/v3/3.15/themes/css/cartodb.css' />\n",
       "  </head>\n",
       "  <body>\n",
       "    <div id='zoom-center'>\n",
       "      zoom=<span id='zoom'>4</span>,\n",
       "      lng=<span id='lon'>No data</span>, lat=<span id='lat'>No data</span>\n",
       "    </div>\n",
       "    <div id='map'></div>\n",
       "    <script src='https://cartodb-libs.global.ssl.fastly.net/cartodb.js/v3/3.15/cartodb.js'></script>\n",
       "\n",
       "    <script>\n",
       "     const config  = {&quot;maps_api_template&quot;: &quot;https://kkatayama.carto.com&quot;, &quot;named_map&quot;: {&quot;params&quot;: {&quot;cartocss_0&quot;: &quot;#layer {  marker-fill: ramp([asn], cartocolor(Geyser), quantiles(7), >); marker-allow-overlap: true; marker-fill-opacity: 0.9; marker-line-color: #FFF; marker-width: 16; marker-line-opacity: 1; marker-line-width: 0.5;}#layer[asn = null] {  marker-fill: #ccc;}&quot;, &quot;basemap_url&quot;: &quot;https://{s}.basemaps.cartocdn.com/rastertiles/voyager_labels_under/{z}/{x}/{y}.png&quot;, &quot;zoom&quot;: 12, &quot;lat&quot;: 39.726, &quot;lng&quot;: -75.55, &quot;sql_0&quot;: &quot;SELECT * FROM wilmington_de&quot;}, &quot;name&quot;: &quot;cartoframes_ver20170406_layers1_time0_baseid2_labels0_zoom1&quot;}, &quot;tiler_domain&quot;: &quot;carto.com&quot;, &quot;type&quot;: &quot;namedmap&quot;, &quot;sql_api_template&quot;: &quot;https://kkatayama.carto.com&quot;, &quot;user_name&quot;: &quot;kkatayama&quot;, &quot;tiler_port&quot;: &quot;80&quot;, &quot;tiler_protocol&quot;: &quot;https&quot;};\n",
       "     const bounds  = [];\n",
       "     const options = {&quot;filter&quot;: [&quot;mapnik&quot;, &quot;torque&quot;], &quot;https&quot;: true};\n",
       "     var labels_url = '';\n",
       "\n",
       "     const adjustLongitude = (lng) => (\n",
       "       lng - ((Math.ceil((lng + 180) / 360) - 1) * 360)\n",
       "     );\n",
       "     const map = L.map('map', {\n",
       "       zoom: 12,\n",
       "       center: [39.726, -75.55],\n",
       "     });\n",
       "\n",
       "     if (L.Browser.retina) {\n",
       "         var basemap = config.named_map.params.basemap_url.replace('.png', '@2x.png');\n",
       "         labels_url = labels_url.replace('.png', '@2x.png');\n",
       "     } else {\n",
       "         var basemap = config.named_map.params.basemap_url;\n",
       "     }\n",
       "     L.tileLayer(basemap, {\n",
       "         attribution: &quot;&copy; <a href=\\&quot;http://www.openstreetmap.org/copyright\\&quot;>OpenStreetMap</a>&quot;\n",
       "     }).addTo(map);\n",
       "\n",
       "     const updateMapInfo = () => {\n",
       "       $('#zoom').text(map.getZoom());\n",
       "       $('#lat').text(map.getCenter().lat.toFixed(4));\n",
       "       $('#lon').text(adjustLongitude(map.getCenter().lng).toFixed(4));\n",
       "     };\n",
       "\n",
       "     cartodb.createLayer(map, config, options)\n",
       "            .addTo(map)\n",
       "            .done((layer) => {\n",
       "                // add labels layer\n",
       "                if (labels_url) {\n",
       "                    var topPane = L.DomUtil.create('div', 'leaflet-top-pane', map.getPanes().mapPane);\n",
       "                    var topLayer = new L.tileLayer(labels_url).addTo(map);\n",
       "                    topPane.appendChild(topLayer.getContainer());\n",
       "                    topLayer.setZIndex(7);\n",
       "                 }\n",
       "\n",
       "                // fit map to bounds\n",
       "                if (bounds.length) {\n",
       "                  map.fitBounds(bounds);\n",
       "                }\n",
       "\n",
       "                updateMapInfo();\n",
       "                map.on('move', () => {\n",
       "                  updateMapInfo();\n",
       "                });\n",
       "            })\n",
       "            .error((err) => {\n",
       "              console.log('ERROR: ', err);\n",
       "            });\n",
       "    </script>\n",
       "\n",
       "  </body>\n",
       "</html>\n",
       "\" width=800 height=400>  Preview image: <img src=\"https://kkatayama.carto.com/api/v1/map/static/named/cartoframes_ver20170406_layers1_time0_baseid2_labels0_zoom1/800/400.png?lat=39.726&lon=-75.55&config=%7B%22cartocss_0%22%3A+%22%23layer+%7B++marker-fill%3A+ramp%28%5Basn%5D%2C+cartocolor%28Geyser%29%2C+quantiles%287%29%2C+%3E%29%3B+marker-allow-overlap%3A+true%3B+marker-fill-opacity%3A+0.9%3B+marker-line-color%3A+%23FFF%3B+marker-width%3A+16%3B+marker-line-opacity%3A+1%3B+marker-line-width%3A+0.5%3B%7D%23layer%5Basn+%3D+null%5D+%7B++marker-fill%3A+%23ccc%3B%7D%22%2C+%22basemap_url%22%3A+%22https%3A%2F%2F%7Bs%7D.basemaps.cartocdn.com%2Frastertiles%2Fvoyager_labels_under%2F%7Bz%7D%2F%7Bx%7D%2F%7By%7D.png%22%2C+%22sql_0%22%3A+%22SELECT+%2A+FROM+wilmington_de%22%7D&anti_cache=0.633252503393&zoom=12\" /></iframe>"
      ],
      "text/plain": [
       "<IPython.core.display.HTML object>"
      ]
     },
     "execution_count": 8,
     "metadata": {},
     "output_type": "execute_result"
    }
   ],
   "source": [
    "### Now testing IPs from Wilmington, DE ###\n",
    "import cartoframes\n",
    "from cartoframes import Credentials, Layer, styling, BaseMap\n",
    "\n",
    "df_wilm = pd.read_csv('./wilmington_de.csv')\n",
    "\n",
    "USERNAME = 'kkatayama'\n",
    "APIKEY   = '7d3903686e1a70e4dedcc87809ea5bd5e2aa357a'\n",
    "creds    = Credentials(username=USERNAME, key=APIKEY)\n",
    "cc       = cartoframes.CartoContext(creds=creds)\n",
    "\n",
    "cc.write(df_wilm, 'wilmington_de', \n",
    "         lnglat=('longitude', 'latitude'),\n",
    "         overwrite=True)\n",
    "\n",
    "l = Layer('wilmington_de',\n",
    "          color={'column': 'asn',\n",
    "                 'scheme': styling.geyser(7, bin_method='quantiles'),\n",
    "                 'legend': 'Malicous IPs in Wilmington, DE'},\n",
    "          size=16)\n",
    "cc.map(layers=l, \n",
    "       zoom=12, \n",
    "       lat=39.726, \n",
    "       lng=-75.55)\n"
   ]
  },
  {
   "cell_type": "code",
   "execution_count": null,
   "metadata": {},
   "outputs": [],
   "source": []
  },
  {
   "cell_type": "code",
   "execution_count": null,
   "metadata": {},
   "outputs": [],
   "source": []
  },
  {
   "cell_type": "markdown",
   "metadata": {},
   "source": [
    "---\n",
    "Plot all coordinates using `ipyleaflet`\n",
    "\n",
    "[https://ipyleaflet.readthedocs.io/en/latest/installation.html](https://ipyleaflet.readthedocs.io/en/latest/installation.html)\n",
    "\n",
    "---"
   ]
  },
  {
   "cell_type": "code",
   "execution_count": 9,
   "metadata": {},
   "outputs": [
    {
     "data": {
      "application/vnd.jupyter.widget-view+json": {
       "model_id": "57889a17cc784d7cb54ab75ab4659aee",
       "version_major": 2,
       "version_minor": 0
      },
      "text/plain": [
       "TWFwKGJhc2VtYXA9eyd1cmwnOiAnaHR0cHM6Ly97c30udGlsZS5vcGVuc3RyZWV0bWFwLm9yZy97en0ve3h9L3t5fS5wbmcnLCAnbWF4X3pvb20nOiAxOSwgJ2F0dHJpYnV0aW9uJzogJ01hcCDigKY=\n"
      ]
     },
     "metadata": {},
     "output_type": "display_data"
    }
   ],
   "source": [
    "### USING MARKERS ###\n",
    "from ipyleaflet import Map, Marker, MarkerCluster\n",
    "\n",
    "m = Map(center=(20, 0), zoom=2)\n",
    "\n",
    "marks = ()\n",
    "for index, geo_ip in df.iterrows():\n",
    "    exec('mark_' + str(index) + ' = Marker(location=(geo_ip.latitude, geo_ip.longitude))')\n",
    "    marks = marks + eval('mark_' + str(index) +',')\n",
    "\n",
    "marker_cluster = MarkerCluster(markers=marks)\n",
    "m.add_layer(marker_cluster);\n",
    "m"
   ]
  },
  {
   "cell_type": "code",
   "execution_count": 10,
   "metadata": {},
   "outputs": [
    {
     "data": {
      "application/vnd.jupyter.widget-view+json": {
       "model_id": "c2f59dc0209c49fc9e33f850f6f6a8de",
       "version_major": 2,
       "version_minor": 0
      },
      "text/plain": [
       "TWFwKGJhc2VtYXA9eyd1cmwnOiAnaHR0cHM6Ly97c30udGlsZS5vcGVuc3RyZWV0bWFwLm9yZy97en0ve3h9L3t5fS5wbmcnLCAnbWF4X3pvb20nOiAxOSwgJ2F0dHJpYnV0aW9uJzogJ01hcCDigKY=\n"
      ]
     },
     "metadata": {},
     "output_type": "display_data"
    }
   ],
   "source": [
    "### USING CIRCLES ###\n",
    "from ipyleaflet import Map, Circle\n",
    "\n",
    "# colors = [\"#008080\", \"#70a494\", \"#b4c8a8\", \"#f6edbd\", \"#edbb8a\", \"#de8a5a\", \"#ca562c\"]\n",
    "colors = [\"#008080\", \"#70a494\", \"#b4c8a8\", \"#edbb8a\", \"#de8a5a\", \"#ca562c\"]\n",
    "m = Map(center=(20, 0), zoom=2)\n",
    "\n",
    "index = 0\n",
    "for geo_ip in df.itertuples():\n",
    "    circle = Circle()\n",
    "    circle.location     = (geo_ip.latitude, geo_ip.longitude)\n",
    "    circle.radius       = 120000\n",
    "    circle.color        = colors[index]\n",
    "    circle.fill_color   = colors[index]\n",
    "    circle.fill_opacity = 1.0\n",
    "    m.add_layer(circle)\n",
    "    index += 1\n",
    "    if index == len(colors):\n",
    "        index = 0    \n",
    "m"
   ]
  },
  {
   "cell_type": "code",
   "execution_count": 11,
   "metadata": {},
   "outputs": [
    {
     "data": {
      "application/vnd.jupyter.widget-view+json": {
       "model_id": "8515363676b046f9b98d49404c24cbc2",
       "version_major": 2,
       "version_minor": 0
      },
      "text/plain": [
       "TWFwKGJhc2VtYXA9eyd1cmwnOiAnaHR0cHM6Ly97c30udGlsZS5vcGVuc3RyZWV0bWFwLm9yZy97en0ve3h9L3t5fS5wbmcnLCAnbWF4X3pvb20nOiAxOSwgJ2F0dHJpYnV0aW9uJzogJ01hcCDigKY=\n"
      ]
     },
     "metadata": {},
     "output_type": "display_data"
    }
   ],
   "source": [
    "### Now testing IPs from Wilmington, DE ###\n",
    "### USING MARKERS ###\n",
    "from ipyleaflet import Map, Marker, MarkerCluster\n",
    "\n",
    "m = Map(center=(39.726, -75.55), zoom=12)\n",
    "\n",
    "marks = ()\n",
    "for index, geo_ip in df_wilm.iterrows():\n",
    "    exec('mark_' + str(index) + ' = Marker(location=(geo_ip.latitude, geo_ip.longitude))')\n",
    "    marks = marks + eval('mark_' + str(index) +',')\n",
    "\n",
    "marker_cluster = MarkerCluster(markers=marks)\n",
    "m.add_layer(marker_cluster);\n",
    "m"
   ]
  },
  {
   "cell_type": "code",
   "execution_count": 12,
   "metadata": {},
   "outputs": [
    {
     "data": {
      "application/vnd.jupyter.widget-view+json": {
       "model_id": "c229b1d6dd554e80a630c33c7471f688",
       "version_major": 2,
       "version_minor": 0
      },
      "text/plain": [
       "TWFwKGJhc2VtYXA9eyd1cmwnOiAnaHR0cHM6Ly97c30udGlsZS5vcGVuc3RyZWV0bWFwLm9yZy97en0ve3h9L3t5fS5wbmcnLCAnbWF4X3pvb20nOiAxOSwgJ2F0dHJpYnV0aW9uJzogJ01hcCDigKY=\n"
      ]
     },
     "metadata": {},
     "output_type": "display_data"
    }
   ],
   "source": [
    "### USING CIRCLES ###\n",
    "from ipyleaflet import Map, Circle\n",
    "\n",
    "# colors = [\"#008080\", \"#70a494\", \"#b4c8a8\", \"#f6edbd\", \"#edbb8a\", \"#de8a5a\", \"#ca562c\"]\n",
    "colors = [\"#008080\", \"#70a494\", \"#b4c8a8\", \"#edbb8a\", \"#de8a5a\", \"#ca562c\"]\n",
    "m = Map(center=(39.726, -75.55), zoom=12)\n",
    "\n",
    "index = 0\n",
    "for geo_ip in df_wilm.itertuples():\n",
    "    circle = Circle()\n",
    "    circle.location     = (geo_ip.latitude, geo_ip.longitude)\n",
    "    circle.radius       = 200\n",
    "    circle.color        = colors[index]\n",
    "    circle.fill_color   = colors[index]\n",
    "    circle.fill_opacity = 1.0\n",
    "    m.add_layer(circle)\n",
    "    index += 1\n",
    "    if index == len(colors):\n",
    "        index = 0    \n",
    "m"
   ]
  },
  {
   "cell_type": "code",
   "execution_count": null,
   "metadata": {},
   "outputs": [],
   "source": []
  },
  {
   "cell_type": "code",
   "execution_count": null,
   "metadata": {},
   "outputs": [],
   "source": []
  },
  {
   "cell_type": "code",
   "execution_count": null,
   "metadata": {},
   "outputs": [],
   "source": []
  },
  {
   "cell_type": "code",
   "execution_count": null,
   "metadata": {},
   "outputs": [],
   "source": []
  },
  {
   "cell_type": "code",
   "execution_count": null,
   "metadata": {},
   "outputs": [],
   "source": []
  }
 ],
 "metadata": {
  "kernelspec": {
   "display_name": "Python 3",
   "language": "python",
   "name": "python3"
  },
  "language_info": {
   "codemirror_mode": {
    "name": "ipython",
    "version": 2
   },
   "file_extension": ".py",
   "mimetype": "text/x-python",
   "name": "python",
   "nbconvert_exporter": "python",
   "pygments_lexer": "ipython2",
   "version": "2.7.15"
  },
  "varInspector": {
   "cols": {
    "lenName": 16,
    "lenType": 16,
    "lenVar": 40
   },
   "kernels_config": {
    "python": {
     "delete_cmd_postfix": "",
     "delete_cmd_prefix": "del ",
     "library": "var_list.py",
     "varRefreshCmd": "print(var_dic_list())"
    },
    "r": {
     "delete_cmd_postfix": ") ",
     "delete_cmd_prefix": "rm(",
     "library": "var_list.r",
     "varRefreshCmd": "cat(var_dic_list()) "
    }
   },
   "position": {
    "height": "646px",
    "left": "1470px",
    "right": "20px",
    "top": "121px",
    "width": "350px"
   },
   "types_to_exclude": [
    "module",
    "function",
    "builtin_function_or_method",
    "instance",
    "_Feature"
   ],
   "window_display": false
  }
 },
 "nbformat": 4,
 "nbformat_minor": 2
}
